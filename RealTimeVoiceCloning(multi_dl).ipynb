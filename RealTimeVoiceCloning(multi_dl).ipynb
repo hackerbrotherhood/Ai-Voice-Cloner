{
  "nbformat": 4,
  "nbformat_minor": 0,
  "metadata": {
    "colab": {
      "name": "RealTimeVoiceCloning(multi_dl).ipynb",
      "provenance": [],
      "collapsed_sections": [],
      "toc_visible": true
    },
    "kernelspec": {
      "name": "python3",
      "display_name": "Python 3"
    },
    "accelerator": "GPU"
  },
  "cells": [
    {
      "cell_type": "markdown",
      "metadata": {
        "id": "IhDehA7sT-Gx",
        "colab_type": "text"
      },
      "source": [
        "# Real-Time Voice Cloning\n",
        "\n",
        "This is a colab demo notebook using the open source project [CorentinJ/Real-Time-Voice-Cloning](https://github.com/CorentinJ/Real-Time-Voice-Cloning)\n",
        "to clone a voice.\n",
        "\n",
        "For other deep-learning Colab notebooks, visit [tugstugi/dl-colab-notebooks](https://github.com/tugstugi/dl-colab-notebooks).\n",
        "\n",
        "\n",
        "Original issue: https://github.com/tugstugi/dl-colab-notebooks/issues/18\n",
        "\n",
        "## Setup CorentinJ/Real-Time-Voice-Cloning"
      ]
    },
    {
      "cell_type": "code",
      "metadata": {
        "id": "EfkTM9TjUCRx",
        "colab_type": "code",
        "cellView": "form",
        "colab": {}
      },
      "source": [
        "#@title Run this cell to Setup CorentinJ/Real-Time-Voice-Cloning\n",
        "\n",
        "#@markdown * clone the project\n",
        "#@markdown * download pretrained models\n",
        "#@markdown * initialize the voice cloning models\n",
        "\n",
        "%tensorflow_version 1.x\n",
        "import os\n",
        "from os.path import exists, join, basename, splitext\n",
        "\n",
        "git_repo_url = 'https://github.com/CorentinJ/Real-Time-Voice-Cloning.git'\n",
        "project_name = splitext(basename(git_repo_url))[0]\n",
        "if not exists(project_name):\n",
        "  # clone and install\n",
        "  !git clone -q --recursive {git_repo_url}\n",
        "  # install dependencies\n",
        "  !cd {project_name} && pip install -q -r requirements.txt\n",
        "  !pip install -U --no-cache-dir gdown --pre\n",
        "  !apt-get install -qq libportaudio2\n",
        "  !pip install -q https://github.com/tugstugi/dl-colab-notebooks/archive/colab_utils.zip\n",
        "\n",
        "  download_ids = ['1n1sPXvT34yXFLT47QZA6FIRGrwMeSsZc',\n",
        "                '1jhlkXcYYsiP_eXeqxIqcnOHqAoFEwINY', \n",
        "                '1z3RV1oUzEhGTnbv3pBc3OVFFc_79fI0W', \n",
        "                '1-fpRMhyIbf_Ijm197pVEg6IzyKDxxTLh', \n",
        "                '148UUYI9yheoUZqztGwO4HOKql8Tt-ZVs']\n",
        "\n",
        "  for id in download_ids:\n",
        "    print(\"Attept download from\", id)\n",
        "    response = !cd {project_name} && gdown --id $id --output pretrained.zip && unzip pretrained.zip\n",
        "    if response[0] == 'Downloading...':\n",
        "      break\n",
        "    else:\n",
        "      continue\n",
        "  # download pretrained model\n",
        "  # response = !cd {project_name} && gdown https://drive.google.com/uc?id=1n1sPXvT34yXFLT47QZA6FIRGrwMeSsZc && unzip pretrained.zip\n",
        "import sys\n",
        "sys.path.append(project_name)\n",
        "\n",
        "from IPython.display import display, Audio, clear_output\n",
        "from IPython.utils import io\n",
        "import ipywidgets as widgets\n",
        "import numpy as np\n",
        "from dl_colab_notebooks.audio import record_audio, upload_audio\n",
        "\n",
        "from synthesizer.inference import Synthesizer\n",
        "from encoder import inference as encoder\n",
        "from vocoder import inference as vocoder\n",
        "from pathlib import Path\n",
        "\n",
        "encoder.load_model(project_name / Path(\"encoder/saved_models/pretrained.pt\"))\n",
        "synthesizer = Synthesizer(project_name / Path(\"synthesizer/saved_models/logs-pretrained/taco_pretrained\"))\n",
        "vocoder.load_model(project_name / Path(\"vocoder/saved_models/pretrained/pretrained.pt\"))"
      ],
      "execution_count": null,
      "outputs": []
    },
    {
      "cell_type": "code",
      "metadata": {
        "id": "vBeMoBxLkDKN",
        "colab_type": "code",
        "cellView": "form",
        "colab": {}
      },
      "source": [
        "#@title Run this cell to Record or Upload Audio\n",
        "#@markdown * Either record audio from microphone or upload audio from file (.mp3 or .wav) \n",
        "\n",
        "SAMPLE_RATE = 22050\n",
        "record_or_upload = \"Record\" #@param [\"Record\", \"Upload (.mp3 or .wav)\"]\n",
        "record_seconds =   10#@param {type:\"number\", min:1, max:10, step:1}\n",
        "\n",
        "embedding = None\n",
        "def _compute_embedding(audio):\n",
        "  display(Audio(audio, rate=SAMPLE_RATE, autoplay=True))\n",
        "  global embedding\n",
        "  embedding = None\n",
        "  embedding = encoder.embed_utterance(encoder.preprocess_wav(audio, SAMPLE_RATE))\n",
        "def _record_audio(b):\n",
        "  clear_output()\n",
        "  audio = record_audio(record_seconds, sample_rate=SAMPLE_RATE)\n",
        "  _compute_embedding(audio)\n",
        "def _upload_audio(b):\n",
        "  clear_output()\n",
        "  audio = upload_audio(sample_rate=SAMPLE_RATE)\n",
        "  _compute_embedding(audio)\n",
        "\n",
        "if record_or_upload == \"Record\":\n",
        "  button = widgets.Button(description=\"Record Your Voice\")\n",
        "  button.on_click(_record_audio)\n",
        "  display(button)\n",
        "else:\n",
        "  #button = widgets.Button(description=\"Upload Voice File\")\n",
        "  #button.on_click(_upload_audio)\n",
        "  _upload_audio(\"\")"
      ],
      "execution_count": null,
      "outputs": []
    },
    {
      "cell_type": "code",
      "metadata": {
        "id": "WZjKkvGF1Y-i",
        "colab_type": "code",
        "cellView": "form",
        "colab": {}
      },
      "source": [
        "#@title Run this to Synthesize a text (result) { run: \"auto\" }\n",
        "text = \"One of the two people who tested positive for the novel coronavirus in the United Kingdom is a student at the University of York in northern England.\" #@param {type:\"string\"}\n",
        "  \n",
        "def synthesize(embed, text):\n",
        "  print(\"Synthesizing new audio...\")\n",
        "  #with io.capture_output() as captured:\n",
        "  specs = synthesizer.synthesize_spectrograms([text], [embed])\n",
        "  generated_wav = vocoder.infer_waveform(specs[0])\n",
        "  generated_wav = np.pad(generated_wav, (0, synthesizer.sample_rate), mode=\"constant\")\n",
        "  clear_output()\n",
        "  display(Audio(generated_wav, rate=synthesizer.sample_rate, autoplay=True))\n",
        "\n",
        "if embedding is None:\n",
        "  print(\"first record a voice or upload a voice file!\")\n",
        "else:\n",
        "  synthesize(embedding, text)"
      ],
      "execution_count": null,
      "outputs": []
    }
  ]
}